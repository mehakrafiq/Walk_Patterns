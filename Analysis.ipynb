{
 "cells": [
  {
   "cell_type": "code",
   "execution_count": 21,
   "metadata": {},
   "outputs": [
    {
     "data": {
      "text/plain": [
       "'walk_pattern_map.html'"
      ]
     },
     "execution_count": 21,
     "metadata": {},
     "output_type": "execute_result"
    }
   ],
   "source": [
    "import pandas as pd\n",
    "import folium\n",
    "\n",
    "# Step 1: Load the data\n",
    "data = pd.read_csv('/Users/mehakrafiq/Library/CloudStorage/OneDrive-NationalUniversityofSciences&Technology/Rapidev/SmartFile.csv')\n",
    "\n",
    "# Step 2: Sort the data by timestamp\n",
    "data.sort_values('TimeStamp', inplace=True)\n",
    "\n",
    "# Step 3: Create a map centered around the first coordinate\n",
    "m = folium.Map(location=[data.iloc[0]['Latitude'], data.iloc[0]['Longitude']], zoom_start=13)\n",
    "\n",
    "# Step 4: Plot the trajectory as a line on the map\n",
    "for i in range(1, len(data)):\n",
    "    folium.PolyLine([(data.iloc[i-1]['Latitude'], data.iloc[i-1]['Longitude']), \n",
    "                     (data.iloc[i]['Latitude'], data.iloc[i]['Longitude'])], color='blue').add_to(m)\n",
    "    \n",
    "# Save the map to an HTML file\n",
    "map_filepath = 'walk_pattern_map.html'\n",
    "m.save(map_filepath)\n",
    "\n",
    "map_filepath\n"
   ]
  },
  {
   "cell_type": "code",
   "execution_count": 22,
   "metadata": {},
   "outputs": [
    {
     "data": {
      "text/html": [
       "<div>\n",
       "<style scoped>\n",
       "    .dataframe tbody tr th:only-of-type {\n",
       "        vertical-align: middle;\n",
       "    }\n",
       "\n",
       "    .dataframe tbody tr th {\n",
       "        vertical-align: top;\n",
       "    }\n",
       "\n",
       "    .dataframe thead th {\n",
       "        text-align: right;\n",
       "    }\n",
       "</style>\n",
       "<table border=\"1\" class=\"dataframe\">\n",
       "  <thead>\n",
       "    <tr style=\"text-align: right;\">\n",
       "      <th></th>\n",
       "      <th>Soldier_ID</th>\n",
       "      <th>TimeStamp</th>\n",
       "      <th>HeartRate</th>\n",
       "      <th>Latitude</th>\n",
       "      <th>Longitude</th>\n",
       "      <th>Accelerometer_X</th>\n",
       "      <th>Accelerometer_Y</th>\n",
       "      <th>Accelerometer_Z</th>\n",
       "      <th>Gyro_X</th>\n",
       "      <th>Gyro_Y</th>\n",
       "      <th>Gyro_Z</th>\n",
       "      <th>User_Activity</th>\n",
       "    </tr>\n",
       "  </thead>\n",
       "  <tbody>\n",
       "    <tr>\n",
       "      <th>0</th>\n",
       "      <td>0</td>\n",
       "      <td>2023-09-08 16:23:07.200</td>\n",
       "      <td>-10</td>\n",
       "      <td>33.64616</td>\n",
       "      <td>72.99664</td>\n",
       "      <td>-1.01695</td>\n",
       "      <td>2.40000</td>\n",
       "      <td>9.21237</td>\n",
       "      <td>0.51646</td>\n",
       "      <td>-0.85545</td>\n",
       "      <td>0.00549</td>\n",
       "      <td>NaN</td>\n",
       "    </tr>\n",
       "    <tr>\n",
       "      <th>1</th>\n",
       "      <td>0</td>\n",
       "      <td>2023-09-08 16:23:07.779</td>\n",
       "      <td>-10</td>\n",
       "      <td>33.64617</td>\n",
       "      <td>72.99666</td>\n",
       "      <td>-1.07198</td>\n",
       "      <td>2.73739</td>\n",
       "      <td>8.96830</td>\n",
       "      <td>0.51204</td>\n",
       "      <td>-0.85745</td>\n",
       "      <td>0.00845</td>\n",
       "      <td>NaN</td>\n",
       "    </tr>\n",
       "    <tr>\n",
       "      <th>4</th>\n",
       "      <td>0</td>\n",
       "      <td>2023-09-08 16:23:10.922</td>\n",
       "      <td>-10</td>\n",
       "      <td>33.64616</td>\n",
       "      <td>72.99666</td>\n",
       "      <td>-0.06939</td>\n",
       "      <td>1.24666</td>\n",
       "      <td>9.56411</td>\n",
       "      <td>0.56297</td>\n",
       "      <td>-0.82643</td>\n",
       "      <td>0.00436</td>\n",
       "      <td>NaN</td>\n",
       "    </tr>\n",
       "    <tr>\n",
       "      <th>10</th>\n",
       "      <td>0</td>\n",
       "      <td>2023-09-08 16:23:16.897</td>\n",
       "      <td>-10</td>\n",
       "      <td>33.64615</td>\n",
       "      <td>72.99666</td>\n",
       "      <td>-2.98864</td>\n",
       "      <td>0.38285</td>\n",
       "      <td>9.97568</td>\n",
       "      <td>0.44209</td>\n",
       "      <td>-0.89592</td>\n",
       "      <td>-0.03627</td>\n",
       "      <td>NaN</td>\n",
       "    </tr>\n",
       "    <tr>\n",
       "      <th>13</th>\n",
       "      <td>0</td>\n",
       "      <td>2023-09-08 16:23:19.875</td>\n",
       "      <td>-10</td>\n",
       "      <td>33.64615</td>\n",
       "      <td>72.99665</td>\n",
       "      <td>1.78505</td>\n",
       "      <td>-1.78744</td>\n",
       "      <td>11.81815</td>\n",
       "      <td>-0.33094</td>\n",
       "      <td>0.94339</td>\n",
       "      <td>-0.00965</td>\n",
       "      <td>NaN</td>\n",
       "    </tr>\n",
       "  </tbody>\n",
       "</table>\n",
       "</div>"
      ],
      "text/plain": [
       "   Soldier_ID                TimeStamp  HeartRate  Latitude  Longitude  \\\n",
       "0           0  2023-09-08 16:23:07.200        -10  33.64616   72.99664   \n",
       "1           0  2023-09-08 16:23:07.779        -10  33.64617   72.99666   \n",
       "4           0  2023-09-08 16:23:10.922        -10  33.64616   72.99666   \n",
       "10          0  2023-09-08 16:23:16.897        -10  33.64615   72.99666   \n",
       "13          0  2023-09-08 16:23:19.875        -10  33.64615   72.99665   \n",
       "\n",
       "    Accelerometer_X  Accelerometer_Y  Accelerometer_Z   Gyro_X   Gyro_Y  \\\n",
       "0          -1.01695          2.40000          9.21237  0.51646 -0.85545   \n",
       "1          -1.07198          2.73739          8.96830  0.51204 -0.85745   \n",
       "4          -0.06939          1.24666          9.56411  0.56297 -0.82643   \n",
       "10         -2.98864          0.38285          9.97568  0.44209 -0.89592   \n",
       "13          1.78505         -1.78744         11.81815 -0.33094  0.94339   \n",
       "\n",
       "     Gyro_Z  User_Activity  \n",
       "0   0.00549            NaN  \n",
       "1   0.00845            NaN  \n",
       "4   0.00436            NaN  \n",
       "10 -0.03627            NaN  \n",
       "13 -0.00965            NaN  "
      ]
     },
     "execution_count": 22,
     "metadata": {},
     "output_type": "execute_result"
    }
   ],
   "source": [
    "from geopy.distance import geodesic\n",
    "\n",
    "# Step 1: Handle missing values by removing rows with NaN values in Latitude and Longitude columns\n",
    "data.dropna(subset=['Latitude', 'Longitude'], inplace=True)\n",
    "\n",
    "# Step 2: Remove rows with same Latitude and Longitude as the previous row\n",
    "data = data.loc[(data['Latitude'].shift() != data['Latitude']) | (data['Longitude'].shift() != data['Longitude'])]\n",
    "\n",
    "# Step 3: Remove random jumps by setting a threshold for the maximum allowable distance between consecutive points (e.g., 100 meters)\n",
    "max_distance_m = 100\n",
    "for i in range(1, len(data)):\n",
    "    coord1 = (data.iloc[i-1]['Latitude'], data.iloc[i-1]['Longitude'])\n",
    "    coord2 = (data.iloc[i]['Latitude'], data.iloc[i]['Longitude'])\n",
    "    if geodesic(coord1, coord2).meters > max_distance_m:\n",
    "        data.iloc[i, data.columns.get_loc('Latitude')] = data.iloc[i-1]['Latitude']\n",
    "        data.iloc[i, data.columns.get_loc('Longitude')] = data.iloc[i-1]['Longitude']\n",
    "\n",
    "# Display the first few rows of the preprocessed data\n",
    "data.head()\n"
   ]
  },
  {
   "cell_type": "code",
   "execution_count": 23,
   "metadata": {},
   "outputs": [
    {
     "data": {
      "text/plain": [
       "'walk_pattern_map_preprocessed.html'"
      ]
     },
     "execution_count": 23,
     "metadata": {},
     "output_type": "execute_result"
    }
   ],
   "source": [
    "# Create a map centered around the first coordinate of the preprocessed data\n",
    "m = folium.Map(location=[data.iloc[0]['Latitude'], data.iloc[0]['Longitude']], zoom_start=13)\n",
    "\n",
    "# Plot the trajectory as a line on the map using the preprocessed data\n",
    "for i in range(1, len(data)):\n",
    "    folium.PolyLine([(data.iloc[i-1]['Latitude'], data.iloc[i-1]['Longitude']), \n",
    "                     (data.iloc[i]['Latitude'], data.iloc[i]['Longitude'])], color='blue').add_to(m)\n",
    "    \n",
    "# Save the map to an HTML file\n",
    "map_filepath = 'walk_pattern_map_preprocessed.html'\n",
    "m.save(map_filepath)\n",
    "\n",
    "map_filepath"
   ]
  },
  {
   "cell_type": "code",
   "execution_count": 24,
   "metadata": {},
   "outputs": [
    {
     "data": {
      "text/plain": [
       "'walk_pattern_map_smooth.html'"
      ]
     },
     "execution_count": 24,
     "metadata": {},
     "output_type": "execute_result"
    }
   ],
   "source": [
    "# Apply a moving average filter with a window size of 5 to the Latitude and Longitude columns to smooth the data\n",
    "window_size = 5\n",
    "data['Latitude_smooth'] = data['Latitude'].rolling(window=window_size, center=True).mean()\n",
    "data['Longitude_smooth'] = data['Longitude'].rolling(window=window_size, center=True).mean()\n",
    "\n",
    "# Remove the rows with NaN values generated due to smoothing\n",
    "data.dropna(subset=['Latitude_smooth', 'Longitude_smooth'], inplace=True)\n",
    "\n",
    "# Create a map centered around the first coordinate of the smoothed data\n",
    "m = folium.Map(location=[data.iloc[0]['Latitude_smooth'], data.iloc[0]['Longitude_smooth']], zoom_start=13)\n",
    "\n",
    "# Plot the trajectory as a line on the map using the smoothed data\n",
    "for i in range(1, len(data)):\n",
    "    folium.PolyLine([(data.iloc[i-1]['Latitude_smooth'], data.iloc[i-1]['Longitude_smooth']), \n",
    "                     (data.iloc[i]['Latitude_smooth'], data.iloc[i]['Longitude_smooth'])], color='blue').add_to(m)\n",
    "    \n",
    "# Save the map to an HTML file\n",
    "map_filepath_smooth = 'walk_pattern_map_smooth.html'\n",
    "m.save(map_filepath_smooth)\n",
    "\n",
    "map_filepath_smooth\n"
   ]
  },
  {
   "cell_type": "code",
   "execution_count": 25,
   "metadata": {},
   "outputs": [
    {
     "data": {
      "text/plain": [
       "'walk_pattern_map_resampled.html'"
      ]
     },
     "execution_count": 25,
     "metadata": {},
     "output_type": "execute_result"
    }
   ],
   "source": [
    "# Convert the TimeStamp column to datetime data type\n",
    "data['TimeStamp'] = pd.to_datetime(data['TimeStamp'])\n",
    "\n",
    "# Set the TimeStamp column as the index\n",
    "data.set_index('TimeStamp', inplace=True)\n",
    "\n",
    "# Resample the data to obtain a single location per minute by taking the mean of the Latitude and Longitude values within each minute\n",
    "data_resampled = data[['Latitude', 'Longitude']].resample('1T').mean().dropna()\n",
    "\n",
    "# Create a map centered around the first coordinate of the resampled data\n",
    "m = folium.Map(location=[data_resampled.iloc[0]['Latitude'], data_resampled.iloc[0]['Longitude']], zoom_start=13)\n",
    "\n",
    "# Plot the trajectory as a line on the map using the resampled data\n",
    "for i in range(1, len(data_resampled)):\n",
    "    folium.PolyLine([(data_resampled.iloc[i-1]['Latitude'], data_resampled.iloc[i-1]['Longitude']), \n",
    "                     (data_resampled.iloc[i]['Latitude'], data_resampled.iloc[i]['Longitude'])], color='blue').add_to(m)\n",
    "    \n",
    "# Save the map to an HTML file\n",
    "map_filepath_resampled = 'walk_pattern_map_resampled.html'\n",
    "m.save(map_filepath_resampled)\n",
    "\n",
    "map_filepath_resampled\n"
   ]
  },
  {
   "cell_type": "code",
   "execution_count": 26,
   "metadata": {},
   "outputs": [
    {
     "data": {
      "text/plain": [
       "'walk_pattern_map_resampled_2min.html'"
      ]
     },
     "execution_count": 26,
     "metadata": {},
     "output_type": "execute_result"
    }
   ],
   "source": [
    "# Resample the data to obtain a single location every 2 minutes by taking the mean of the Latitude and Longitude values within each 2-minute interval\n",
    "data_resampled_2min = data[['Latitude', 'Longitude']].resample('2T').mean().dropna()\n",
    "\n",
    "# Create a map centered around the first coordinate of the 2-minute resampled data\n",
    "m = folium.Map(location=[data_resampled_2min.iloc[0]['Latitude'], data_resampled_2min.iloc[0]['Longitude']], zoom_start=13)\n",
    "\n",
    "# Plot the trajectory as a line on the map using the 2-minute resampled data\n",
    "for i in range(1, len(data_resampled_2min)):\n",
    "    folium.PolyLine([(data_resampled_2min.iloc[i-1]['Latitude'], data_resampled_2min.iloc[i-1]['Longitude']), \n",
    "                     (data_resampled_2min.iloc[i]['Latitude'], data_resampled_2min.iloc[i]['Longitude'])], color='blue').add_to(m)\n",
    "    \n",
    "# Save the map to an HTML file\n",
    "map_filepath_resampled_2min = 'walk_pattern_map_resampled_2min.html'\n",
    "m.save(map_filepath_resampled_2min)\n",
    "\n",
    "map_filepath_resampled_2min\n"
   ]
  },
  {
   "cell_type": "code",
   "execution_count": 27,
   "metadata": {},
   "outputs": [
    {
     "data": {
      "text/plain": [
       "'walk_pattern_map_resampled_5min.html'"
      ]
     },
     "execution_count": 27,
     "metadata": {},
     "output_type": "execute_result"
    }
   ],
   "source": [
    "# Resample the data to obtain a single location every 5 minutes by taking the mean of the Latitude and Longitude values within each 5-minute interval\n",
    "data_resampled_5min = data[['Latitude', 'Longitude']].resample('5T').mean().dropna()\n",
    "\n",
    "# Create a map centered around the first coordinate of the 5-minute resampled data\n",
    "m = folium.Map(location=[data_resampled_5min.iloc[0]['Latitude'], data_resampled_5min.iloc[0]['Longitude']], zoom_start=13)\n",
    "\n",
    "# Plot the trajectory as a line on the map using the 5-minute resampled data\n",
    "for i in range(1, len(data_resampled_5min)):\n",
    "    folium.PolyLine([(data_resampled_5min.iloc[i-1]['Latitude'], data_resampled_5min.iloc[i-1]['Longitude']), \n",
    "                     (data_resampled_5min.iloc[i]['Latitude'], data_resampled_5min.iloc[i]['Longitude'])], color='blue').add_to(m)\n",
    "    \n",
    "# Save the map to an HTML file\n",
    "map_filepath_resampled_5min = 'walk_pattern_map_resampled_5min.html'\n",
    "m.save(map_filepath_resampled_5min)\n",
    "\n",
    "map_filepath_resampled_5min\n"
   ]
  },
  {
   "cell_type": "code",
   "execution_count": 28,
   "metadata": {},
   "outputs": [
    {
     "data": {
      "text/plain": [
       "'walk_pattern_map_resampled_smooth_2min.html'"
      ]
     },
     "execution_count": 28,
     "metadata": {},
     "output_type": "execute_result"
    }
   ],
   "source": [
    "# Apply a moving average filter with a window size of 3 to the 2-minute resampled Latitude and Longitude columns to smooth the data\n",
    "window_size = 3\n",
    "data_resampled_2min['Latitude_smooth'] = data_resampled_2min['Latitude'].rolling(window=window_size, center=True).mean()\n",
    "data_resampled_2min['Longitude_smooth'] = data_resampled_2min['Longitude'].rolling(window=window_size, center=True).mean()\n",
    "\n",
    "# Remove the rows with NaN values generated due to smoothing\n",
    "data_resampled_2min.dropna(subset=['Latitude_smooth', 'Longitude_smooth'], inplace=True)\n",
    "\n",
    "# Create a map centered around the first coordinate of the smoothed and resampled data\n",
    "m = folium.Map(location=[data_resampled_2min.iloc[0]['Latitude_smooth'], data_resampled_2min.iloc[0]['Longitude_smooth']], zoom_start=13)\n",
    "\n",
    "# Plot the trajectory as a line on the map using the smoothed and resampled data\n",
    "for i in range(1, len(data_resampled_2min)):\n",
    "    folium.PolyLine([(data_resampled_2min.iloc[i-1]['Latitude_smooth'], data_resampled_2min.iloc[i-1]['Longitude_smooth']), \n",
    "                     (data_resampled_2min.iloc[i]['Latitude_smooth'], data_resampled_2min.iloc[i]['Longitude_smooth'])], color='blue').add_to(m)\n",
    "    \n",
    "# Save the map to an HTML file\n",
    "map_filepath_resampled_smooth_2min = 'walk_pattern_map_resampled_smooth_2min.html'\n",
    "m.save(map_filepath_resampled_smooth_2min)\n",
    "\n",
    "map_filepath_resampled_smooth_2min\n"
   ]
  },
  {
   "cell_type": "code",
   "execution_count": 29,
   "metadata": {},
   "outputs": [
    {
     "data": {
      "text/plain": [
       "'walk_pattern_map_resampled_smooth_1min.html'"
      ]
     },
     "execution_count": 29,
     "metadata": {},
     "output_type": "execute_result"
    }
   ],
   "source": [
    "# Apply a moving average filter with a window size of 3 to the original Latitude and Longitude columns to smooth the data\n",
    "window_size = 5\n",
    "data['Latitude_smooth'] = data['Latitude'].rolling(window=window_size, center=True).mean()\n",
    "data['Longitude_smooth'] = data['Longitude'].rolling(window=window_size, center=True).mean()\n",
    "\n",
    "# Remove the rows with NaN values generated due to smoothing\n",
    "data.dropna(subset=['Latitude_smooth', 'Longitude_smooth'], inplace=True)\n",
    "\n",
    "# Resample the smoothed data to obtain a single location every 1 minute\n",
    "data_resampled_smooth_1min = data[['Latitude_smooth', 'Longitude_smooth']].resample('1T').mean().dropna()\n",
    "\n",
    "# Create a map centered around the first coordinate of the 1-minute resampled and smoothed data\n",
    "m = folium.Map(location=[data_resampled_smooth_1min.iloc[0]['Latitude_smooth'], data_resampled_smooth_1min.iloc[0]['Longitude_smooth']], zoom_start=13)\n",
    "\n",
    "# Plot the trajectory as a line on the map using the 1-minute resampled and smoothed data\n",
    "for i in range(1, len(data_resampled_smooth_1min)):\n",
    "    folium.PolyLine([(data_resampled_smooth_1min.iloc[i-1]['Latitude_smooth'], data_resampled_smooth_1min.iloc[i-1]['Longitude_smooth']), \n",
    "                     (data_resampled_smooth_1min.iloc[i]['Latitude_smooth'], data_resampled_smooth_1min.iloc[i]['Longitude_smooth'])], color='blue').add_to(m)\n",
    "    \n",
    "# Save the map to an HTML file\n",
    "map_filepath_resampled_smooth_1min = 'walk_pattern_map_resampled_smooth_1min.html'\n",
    "m.save(map_filepath_resampled_smooth_1min)\n",
    "\n",
    "map_filepath_resampled_smooth_1min\n"
   ]
  },
  {
   "cell_type": "code",
   "execution_count": 30,
   "metadata": {},
   "outputs": [
    {
     "ename": "FileNotFoundError",
     "evalue": "[Errno 2] No such file or directory: '/mnt/data/walk_pattern_map_resampled_smooth_1min_soldier_0.html'",
     "output_type": "error",
     "traceback": [
      "\u001b[0;31m---------------------------------------------------------------------------\u001b[0m",
      "\u001b[0;31mFileNotFoundError\u001b[0m                         Traceback (most recent call last)",
      "\u001b[1;32m/Users/mehakrafiq/Library/CloudStorage/OneDrive-NationalUniversityofSciences&Technology/Rapidev/Analysis.ipynb Cell 10\u001b[0m line \u001b[0;36m3\n\u001b[1;32m     <a href='vscode-notebook-cell:/Users/mehakrafiq/Library/CloudStorage/OneDrive-NationalUniversityofSciences%26Technology/Rapidev/Analysis.ipynb#X20sZmlsZQ%3D%3D?line=27'>28</a>\u001b[0m \u001b[39m# Save the map to an HTML file\u001b[39;00m\n\u001b[1;32m     <a href='vscode-notebook-cell:/Users/mehakrafiq/Library/CloudStorage/OneDrive-NationalUniversityofSciences%26Technology/Rapidev/Analysis.ipynb#X20sZmlsZQ%3D%3D?line=28'>29</a>\u001b[0m map_filepath \u001b[39m=\u001b[39m \u001b[39mf\u001b[39m\u001b[39m'\u001b[39m\u001b[39m/mnt/data/walk_pattern_map_resampled_smooth_1min_soldier_\u001b[39m\u001b[39m{\u001b[39;00msoldier_id\u001b[39m}\u001b[39;00m\u001b[39m.html\u001b[39m\u001b[39m'\u001b[39m\n\u001b[0;32m---> <a href='vscode-notebook-cell:/Users/mehakrafiq/Library/CloudStorage/OneDrive-NationalUniversityofSciences%26Technology/Rapidev/Analysis.ipynb#X20sZmlsZQ%3D%3D?line=29'>30</a>\u001b[0m m\u001b[39m.\u001b[39;49msave(map_filepath)\n\u001b[1;32m     <a href='vscode-notebook-cell:/Users/mehakrafiq/Library/CloudStorage/OneDrive-NationalUniversityofSciences%26Technology/Rapidev/Analysis.ipynb#X20sZmlsZQ%3D%3D?line=31'>32</a>\u001b[0m \u001b[39m# Store the map filepath in the dictionary\u001b[39;00m\n\u001b[1;32m     <a href='vscode-notebook-cell:/Users/mehakrafiq/Library/CloudStorage/OneDrive-NationalUniversityofSciences%26Technology/Rapidev/Analysis.ipynb#X20sZmlsZQ%3D%3D?line=32'>33</a>\u001b[0m maps_dict[soldier_id] \u001b[39m=\u001b[39m map_filepath\n",
      "File \u001b[0;32m/opt/homebrew/Caskroom/miniforge/base/envs/Geolocation/lib/python3.11/site-packages/branca/element.py:179\u001b[0m, in \u001b[0;36mElement.save\u001b[0;34m(self, outfile, close_file, **kwargs)\u001b[0m\n\u001b[1;32m    169\u001b[0m \u001b[39m\u001b[39m\u001b[39m\"\"\"Saves an Element into a file.\u001b[39;00m\n\u001b[1;32m    170\u001b[0m \n\u001b[1;32m    171\u001b[0m \u001b[39mParameters\u001b[39;00m\n\u001b[0;32m   (...)\u001b[0m\n\u001b[1;32m    176\u001b[0m \u001b[39m    Whether the file has to be closed after write.\u001b[39;00m\n\u001b[1;32m    177\u001b[0m \u001b[39m\"\"\"\u001b[39;00m\n\u001b[1;32m    178\u001b[0m \u001b[39mif\u001b[39;00m \u001b[39misinstance\u001b[39m(outfile, (\u001b[39mstr\u001b[39m, \u001b[39mbytes\u001b[39m, Path)):\n\u001b[0;32m--> 179\u001b[0m     fid \u001b[39m=\u001b[39m \u001b[39mopen\u001b[39m(outfile, \u001b[39m'\u001b[39m\u001b[39mwb\u001b[39m\u001b[39m'\u001b[39m)\n\u001b[1;32m    180\u001b[0m \u001b[39melse\u001b[39;00m:\n\u001b[1;32m    181\u001b[0m     fid \u001b[39m=\u001b[39m outfile\n",
      "\u001b[0;31mFileNotFoundError\u001b[0m: [Errno 2] No such file or directory: '/mnt/data/walk_pattern_map_resampled_smooth_1min_soldier_0.html'"
     ]
    }
   ],
   "source": [
    "# Apply a moving average filter with a window size of 3 to the Latitude and Longitude columns to smooth the data\n",
    "window_size = 3\n",
    "data['Latitude_smooth'] = data['Latitude'].rolling(window=window_size, center=True).mean()\n",
    "data['Longitude_smooth'] = data['Longitude'].rolling(window=window_size, center=True).mean()\n",
    "\n",
    "# Identify the unique Soldier_IDs in the data\n",
    "unique_soldier_ids = data['Soldier_ID'].unique()\n",
    "\n",
    "# Create a dictionary to store the maps for each Soldier_ID\n",
    "maps_dict = {}\n",
    "\n",
    "# Loop through each unique Soldier_ID and create a map for each\n",
    "for soldier_id in unique_soldier_ids:\n",
    "    # Filter the data for the current Soldier_ID\n",
    "    data_filtered = data[data['Soldier_ID'] == soldier_id]\n",
    "    \n",
    "    # Resample the smoothed data to obtain a single location every 1 minute\n",
    "    data_resampled_smooth_1min = data_filtered[['Latitude_smooth', 'Longitude_smooth']].resample('1T').mean().dropna()\n",
    "    \n",
    "    # Create a map centered around the first coordinate of the 1-minute resampled and smoothed data\n",
    "    m = folium.Map(location=[data_resampled_smooth_1min.iloc[0]['Latitude_smooth'], data_resampled_smooth_1min.iloc[0]['Longitude_smooth']], zoom_start=13)\n",
    "    \n",
    "    # Plot the trajectory as a line on the map using the 1-minute resampled and smoothed data\n",
    "    for i in range(1, len(data_resampled_smooth_1min)):\n",
    "        folium.PolyLine([(data_resampled_smooth_1min.iloc[i-1]['Latitude_smooth'], data_resampled_smooth_1min.iloc[i-1]['Longitude_smooth']), \n",
    "                         (data_resampled_smooth_1min.iloc[i]['Latitude_smooth'], data_resampled_smooth_1min.iloc[i]['Longitude_smooth'])], color='blue').add_to(m)\n",
    "        \n",
    "    # Save the map to an HTML file\n",
    "    map_filepath = f'/mnt/data/walk_pattern_map_resampled_smooth_1min_soldier_{soldier_id}.html'\n",
    "    m.save(map_filepath)\n",
    "    \n",
    "    # Store the map filepath in the dictionary\n",
    "    maps_dict[soldier_id] = map_filepath\n",
    "\n",
    "maps_dict\n"
   ]
  },
  {
   "cell_type": "code",
   "execution_count": null,
   "metadata": {},
   "outputs": [
    {
     "data": {
      "text/html": [
       "<div>\n",
       "<style scoped>\n",
       "    .dataframe tbody tr th:only-of-type {\n",
       "        vertical-align: middle;\n",
       "    }\n",
       "\n",
       "    .dataframe tbody tr th {\n",
       "        vertical-align: top;\n",
       "    }\n",
       "\n",
       "    .dataframe thead th {\n",
       "        text-align: right;\n",
       "    }\n",
       "</style>\n",
       "<table border=\"1\" class=\"dataframe\">\n",
       "  <thead>\n",
       "    <tr style=\"text-align: right;\">\n",
       "      <th></th>\n",
       "      <th>Soldier_ID</th>\n",
       "      <th>HeartRate</th>\n",
       "      <th>Latitude</th>\n",
       "      <th>Longitude</th>\n",
       "      <th>Accelerometer_X</th>\n",
       "      <th>Accelerometer_Y</th>\n",
       "      <th>Accelerometer_Z</th>\n",
       "      <th>Gyro_X</th>\n",
       "      <th>Gyro_Y</th>\n",
       "      <th>Gyro_Z</th>\n",
       "      <th>User_Activity</th>\n",
       "      <th>Latitude_smooth</th>\n",
       "      <th>Longitude_smooth</th>\n",
       "    </tr>\n",
       "    <tr>\n",
       "      <th>TimeStamp</th>\n",
       "      <th></th>\n",
       "      <th></th>\n",
       "      <th></th>\n",
       "      <th></th>\n",
       "      <th></th>\n",
       "      <th></th>\n",
       "      <th></th>\n",
       "      <th></th>\n",
       "      <th></th>\n",
       "      <th></th>\n",
       "      <th></th>\n",
       "      <th></th>\n",
       "      <th></th>\n",
       "    </tr>\n",
       "  </thead>\n",
       "  <tbody>\n",
       "    <tr>\n",
       "      <th>2023-09-13 11:22:05.571</th>\n",
       "      <td>Live Sol</td>\n",
       "      <td>91</td>\n",
       "      <td>33.64633</td>\n",
       "      <td>72.99696</td>\n",
       "      <td>6.48934</td>\n",
       "      <td>-0.59821</td>\n",
       "      <td>5.25225</td>\n",
       "      <td>-0.47323</td>\n",
       "      <td>0.79728</td>\n",
       "      <td>-0.29528</td>\n",
       "      <td>NaN</td>\n",
       "      <td>33.646313</td>\n",
       "      <td>72.997057</td>\n",
       "    </tr>\n",
       "    <tr>\n",
       "      <th>2023-09-13 11:22:06.465</th>\n",
       "      <td>Live Sol</td>\n",
       "      <td>92</td>\n",
       "      <td>33.64631</td>\n",
       "      <td>72.99697</td>\n",
       "      <td>9.14776</td>\n",
       "      <td>-1.06720</td>\n",
       "      <td>6.03470</td>\n",
       "      <td>-0.46169</td>\n",
       "      <td>0.77148</td>\n",
       "      <td>-0.32732</td>\n",
       "      <td>NaN</td>\n",
       "      <td>33.646280</td>\n",
       "      <td>72.997057</td>\n",
       "    </tr>\n",
       "    <tr>\n",
       "      <th>2023-09-13 11:22:10.464</th>\n",
       "      <td>Live Sol</td>\n",
       "      <td>98</td>\n",
       "      <td>33.64620</td>\n",
       "      <td>72.99724</td>\n",
       "      <td>7.80299</td>\n",
       "      <td>2.21336</td>\n",
       "      <td>5.57767</td>\n",
       "      <td>-0.49935</td>\n",
       "      <td>-0.75566</td>\n",
       "      <td>0.22874</td>\n",
       "      <td>NaN</td>\n",
       "      <td>33.646237</td>\n",
       "      <td>72.997193</td>\n",
       "    </tr>\n",
       "    <tr>\n",
       "      <th>2023-09-13 11:22:14.489</th>\n",
       "      <td>Live Sol</td>\n",
       "      <td>104</td>\n",
       "      <td>33.64620</td>\n",
       "      <td>72.99737</td>\n",
       "      <td>7.47039</td>\n",
       "      <td>-2.56511</td>\n",
       "      <td>5.85284</td>\n",
       "      <td>-0.46322</td>\n",
       "      <td>0.79019</td>\n",
       "      <td>-0.21714</td>\n",
       "      <td>NaN</td>\n",
       "      <td>33.646173</td>\n",
       "      <td>72.997360</td>\n",
       "    </tr>\n",
       "    <tr>\n",
       "      <th>2023-09-13 11:22:18.596</th>\n",
       "      <td>Live Sol</td>\n",
       "      <td>107</td>\n",
       "      <td>33.64612</td>\n",
       "      <td>72.99747</td>\n",
       "      <td>8.86062</td>\n",
       "      <td>2.87378</td>\n",
       "      <td>4.22572</td>\n",
       "      <td>-0.32873</td>\n",
       "      <td>-0.78414</td>\n",
       "      <td>0.27286</td>\n",
       "      <td>NaN</td>\n",
       "      <td>33.646147</td>\n",
       "      <td>72.997443</td>\n",
       "    </tr>\n",
       "  </tbody>\n",
       "</table>\n",
       "</div>"
      ],
      "text/plain": [
       "                        Soldier_ID  HeartRate  Latitude  Longitude  \\\n",
       "TimeStamp                                                            \n",
       "2023-09-13 11:22:05.571   Live Sol         91  33.64633   72.99696   \n",
       "2023-09-13 11:22:06.465   Live Sol         92  33.64631   72.99697   \n",
       "2023-09-13 11:22:10.464   Live Sol         98  33.64620   72.99724   \n",
       "2023-09-13 11:22:14.489   Live Sol        104  33.64620   72.99737   \n",
       "2023-09-13 11:22:18.596   Live Sol        107  33.64612   72.99747   \n",
       "\n",
       "                         Accelerometer_X  Accelerometer_Y  Accelerometer_Z  \\\n",
       "TimeStamp                                                                    \n",
       "2023-09-13 11:22:05.571          6.48934         -0.59821          5.25225   \n",
       "2023-09-13 11:22:06.465          9.14776         -1.06720          6.03470   \n",
       "2023-09-13 11:22:10.464          7.80299          2.21336          5.57767   \n",
       "2023-09-13 11:22:14.489          7.47039         -2.56511          5.85284   \n",
       "2023-09-13 11:22:18.596          8.86062          2.87378          4.22572   \n",
       "\n",
       "                          Gyro_X   Gyro_Y   Gyro_Z  User_Activity  \\\n",
       "TimeStamp                                                           \n",
       "2023-09-13 11:22:05.571 -0.47323  0.79728 -0.29528            NaN   \n",
       "2023-09-13 11:22:06.465 -0.46169  0.77148 -0.32732            NaN   \n",
       "2023-09-13 11:22:10.464 -0.49935 -0.75566  0.22874            NaN   \n",
       "2023-09-13 11:22:14.489 -0.46322  0.79019 -0.21714            NaN   \n",
       "2023-09-13 11:22:18.596 -0.32873 -0.78414  0.27286            NaN   \n",
       "\n",
       "                         Latitude_smooth  Longitude_smooth  \n",
       "TimeStamp                                                   \n",
       "2023-09-13 11:22:05.571        33.646313         72.997057  \n",
       "2023-09-13 11:22:06.465        33.646280         72.997057  \n",
       "2023-09-13 11:22:10.464        33.646237         72.997193  \n",
       "2023-09-13 11:22:14.489        33.646173         72.997360  \n",
       "2023-09-13 11:22:18.596        33.646147         72.997443  "
      ]
     },
     "execution_count": 17,
     "metadata": {},
     "output_type": "execute_result"
    }
   ],
   "source": [
    "# Drop the '0' rows from the 'soldier_id' column\n",
    "#data = data[data['Soldier_ID'] != '0']\n",
    "#data = data[data['Soldier_ID'] != 'Sarosh Sol']\n",
    "#data.head()"
   ]
  },
  {
   "cell_type": "code",
   "execution_count": null,
   "metadata": {},
   "outputs": [
    {
     "data": {
      "text/plain": [
       "'walk_pattern_map_LiveSol_resampled_smooth_1min.html'"
      ]
     },
     "execution_count": 20,
     "metadata": {},
     "output_type": "execute_result"
    }
   ],
   "source": [
    "# Apply a moving average filter with a window size of 3 to the original Latitude and Longitude columns to smooth the data\n",
    "window_size = 3\n",
    "data['Latitude_smooth'] = data['Latitude'].rolling(window=window_size, center=True).mean()\n",
    "data['Longitude_smooth'] = data['Longitude'].rolling(window=window_size, center=True).mean()\n",
    "\n",
    "# Remove the rows with NaN values generated due to smoothing\n",
    "data.dropna(subset=['Latitude_smooth', 'Longitude_smooth'], inplace=True)\n",
    "\n",
    "# Resample the smoothed data to obtain a single location every 1 minute\n",
    "data_resampled_smooth_1min = data[['Latitude_smooth', 'Longitude_smooth']].resample('1T').mean().dropna()\n",
    "\n",
    "# Create a map centered around the first coordinate of the 1-minute resampled and smoothed data\n",
    "m = folium.Map(location=[data_resampled_smooth_1min.iloc[0]['Latitude_smooth'], data_resampled_smooth_1min.iloc[0]['Longitude_smooth']], zoom_start=20)\n",
    "\n",
    "# Plot the trajectory as a line on the map using the 1-minute resampled and smoothed data\n",
    "for i in range(1, len(data_resampled_smooth_1min)):\n",
    "    folium.PolyLine([(data_resampled_smooth_1min.iloc[i-1]['Latitude_smooth'], data_resampled_smooth_1min.iloc[i-1]['Longitude_smooth']), \n",
    "                     (data_resampled_smooth_1min.iloc[i]['Latitude_smooth'], data_resampled_smooth_1min.iloc[i]['Longitude_smooth'])], color='blue').add_to(m)\n",
    "    \n",
    "# Save the map to an HTML file\n",
    "map_filepath_LiveSol_resampled_smooth_1min = 'walk_pattern_map_LiveSol_resampled_smooth_1min.html'\n",
    "m.save(map_filepath_LiveSol_resampled_smooth_1min)\n",
    "\n",
    "map_filepath_LiveSol_resampled_smooth_1min\n"
   ]
  }
 ],
 "metadata": {
  "kernelspec": {
   "display_name": "Python 3",
   "language": "python",
   "name": "python3"
  },
  "language_info": {
   "codemirror_mode": {
    "name": "ipython",
    "version": 3
   },
   "file_extension": ".py",
   "mimetype": "text/x-python",
   "name": "python",
   "nbconvert_exporter": "python",
   "pygments_lexer": "ipython3",
   "version": "3.11.5"
  },
  "orig_nbformat": 4
 },
 "nbformat": 4,
 "nbformat_minor": 2
}
