{
 "cells": [
  {
   "cell_type": "code",
   "execution_count": 49,
   "metadata": {},
   "outputs": [],
   "source": [
    "#import packages\n",
    "import pandas as pd\n",
    "import numpy as np\n",
    "import folium\n",
    "\n",
    "#ignore warnings\n",
    "import warnings\n",
    "warnings.filterwarnings('ignore')"
   ]
  },
  {
   "cell_type": "code",
   "execution_count": 31,
   "metadata": {},
   "outputs": [
    {
     "data": {
      "text/plain": [
       "'walk_pattern_map.html'"
      ]
     },
     "execution_count": 31,
     "metadata": {},
     "output_type": "execute_result"
    }
   ],
   "source": [
    "# Step 1: Load the data\n",
    "data = pd.read_csv('/Users/mehakrafiq/Library/CloudStorage/OneDrive-NationalUniversityofSciences&Technology/Rapidev/SmartFile.csv')\n",
    "\n",
    "# Step 2: Sort the data by timestamp\n",
    "data.sort_values('TimeStamp', inplace=True)\n",
    "\n",
    "# Step 3: Create a map centered around the first coordinate\n",
    "m = folium.Map(location=[data.iloc[0]['Latitude'], data.iloc[0]['Longitude']], zoom_start=20)\n",
    "\n",
    "# Step 4: Plot the trajectory as a line on the map\n",
    "for i in range(1, len(data)):\n",
    "    folium.PolyLine([(data.iloc[i-1]['Latitude'], data.iloc[i-1]['Longitude']), \n",
    "                     (data.iloc[i]['Latitude'], data.iloc[i]['Longitude'])], color='blue').add_to(m)\n",
    "    \n",
    "# Save the map to an HTML file\n",
    "map_filepath = 'walk_pattern_map.html'\n",
    "m.save(map_filepath)\n",
    "\n",
    "map_filepath\n"
   ]
  },
  {
   "cell_type": "code",
   "execution_count": 32,
   "metadata": {},
   "outputs": [
    {
     "data": {
      "text/html": [
       "<div>\n",
       "<style scoped>\n",
       "    .dataframe tbody tr th:only-of-type {\n",
       "        vertical-align: middle;\n",
       "    }\n",
       "\n",
       "    .dataframe tbody tr th {\n",
       "        vertical-align: top;\n",
       "    }\n",
       "\n",
       "    .dataframe thead th {\n",
       "        text-align: right;\n",
       "    }\n",
       "</style>\n",
       "<table border=\"1\" class=\"dataframe\">\n",
       "  <thead>\n",
       "    <tr style=\"text-align: right;\">\n",
       "      <th></th>\n",
       "      <th>Soldier_ID</th>\n",
       "      <th>TimeStamp</th>\n",
       "      <th>HeartRate</th>\n",
       "      <th>Latitude</th>\n",
       "      <th>Longitude</th>\n",
       "      <th>Accelerometer_X</th>\n",
       "      <th>Accelerometer_Y</th>\n",
       "      <th>Accelerometer_Z</th>\n",
       "      <th>Gyro_X</th>\n",
       "      <th>Gyro_Y</th>\n",
       "      <th>Gyro_Z</th>\n",
       "      <th>User_Activity</th>\n",
       "    </tr>\n",
       "  </thead>\n",
       "  <tbody>\n",
       "    <tr>\n",
       "      <th>0</th>\n",
       "      <td>0</td>\n",
       "      <td>2023-09-08 16:23:07.200</td>\n",
       "      <td>-10</td>\n",
       "      <td>33.64616</td>\n",
       "      <td>72.99664</td>\n",
       "      <td>-1.01695</td>\n",
       "      <td>2.40000</td>\n",
       "      <td>9.21237</td>\n",
       "      <td>0.51646</td>\n",
       "      <td>-0.85545</td>\n",
       "      <td>0.00549</td>\n",
       "      <td>NaN</td>\n",
       "    </tr>\n",
       "    <tr>\n",
       "      <th>1</th>\n",
       "      <td>0</td>\n",
       "      <td>2023-09-08 16:23:07.779</td>\n",
       "      <td>-10</td>\n",
       "      <td>33.64617</td>\n",
       "      <td>72.99666</td>\n",
       "      <td>-1.07198</td>\n",
       "      <td>2.73739</td>\n",
       "      <td>8.96830</td>\n",
       "      <td>0.51204</td>\n",
       "      <td>-0.85745</td>\n",
       "      <td>0.00845</td>\n",
       "      <td>NaN</td>\n",
       "    </tr>\n",
       "    <tr>\n",
       "      <th>4</th>\n",
       "      <td>0</td>\n",
       "      <td>2023-09-08 16:23:10.922</td>\n",
       "      <td>-10</td>\n",
       "      <td>33.64616</td>\n",
       "      <td>72.99666</td>\n",
       "      <td>-0.06939</td>\n",
       "      <td>1.24666</td>\n",
       "      <td>9.56411</td>\n",
       "      <td>0.56297</td>\n",
       "      <td>-0.82643</td>\n",
       "      <td>0.00436</td>\n",
       "      <td>NaN</td>\n",
       "    </tr>\n",
       "    <tr>\n",
       "      <th>10</th>\n",
       "      <td>0</td>\n",
       "      <td>2023-09-08 16:23:16.897</td>\n",
       "      <td>-10</td>\n",
       "      <td>33.64615</td>\n",
       "      <td>72.99666</td>\n",
       "      <td>-2.98864</td>\n",
       "      <td>0.38285</td>\n",
       "      <td>9.97568</td>\n",
       "      <td>0.44209</td>\n",
       "      <td>-0.89592</td>\n",
       "      <td>-0.03627</td>\n",
       "      <td>NaN</td>\n",
       "    </tr>\n",
       "    <tr>\n",
       "      <th>13</th>\n",
       "      <td>0</td>\n",
       "      <td>2023-09-08 16:23:19.875</td>\n",
       "      <td>-10</td>\n",
       "      <td>33.64615</td>\n",
       "      <td>72.99665</td>\n",
       "      <td>1.78505</td>\n",
       "      <td>-1.78744</td>\n",
       "      <td>11.81815</td>\n",
       "      <td>-0.33094</td>\n",
       "      <td>0.94339</td>\n",
       "      <td>-0.00965</td>\n",
       "      <td>NaN</td>\n",
       "    </tr>\n",
       "  </tbody>\n",
       "</table>\n",
       "</div>"
      ],
      "text/plain": [
       "   Soldier_ID                TimeStamp  HeartRate  Latitude  Longitude  \\\n",
       "0           0  2023-09-08 16:23:07.200        -10  33.64616   72.99664   \n",
       "1           0  2023-09-08 16:23:07.779        -10  33.64617   72.99666   \n",
       "4           0  2023-09-08 16:23:10.922        -10  33.64616   72.99666   \n",
       "10          0  2023-09-08 16:23:16.897        -10  33.64615   72.99666   \n",
       "13          0  2023-09-08 16:23:19.875        -10  33.64615   72.99665   \n",
       "\n",
       "    Accelerometer_X  Accelerometer_Y  Accelerometer_Z   Gyro_X   Gyro_Y  \\\n",
       "0          -1.01695          2.40000          9.21237  0.51646 -0.85545   \n",
       "1          -1.07198          2.73739          8.96830  0.51204 -0.85745   \n",
       "4          -0.06939          1.24666          9.56411  0.56297 -0.82643   \n",
       "10         -2.98864          0.38285          9.97568  0.44209 -0.89592   \n",
       "13          1.78505         -1.78744         11.81815 -0.33094  0.94339   \n",
       "\n",
       "     Gyro_Z  User_Activity  \n",
       "0   0.00549            NaN  \n",
       "1   0.00845            NaN  \n",
       "4   0.00436            NaN  \n",
       "10 -0.03627            NaN  \n",
       "13 -0.00965            NaN  "
      ]
     },
     "execution_count": 32,
     "metadata": {},
     "output_type": "execute_result"
    }
   ],
   "source": [
    "from geopy.distance import geodesic\n",
    "\n",
    "# Step 1: Handle missing values by removing rows with NaN values in Latitude and Longitude columns\n",
    "data.dropna(subset=['Latitude', 'Longitude'], inplace=True)\n",
    "\n",
    "# Step 2: Remove rows with same Latitude and Longitude as the previous row\n",
    "data = data.loc[(data['Latitude'].shift() != data['Latitude']) | (data['Longitude'].shift() != data['Longitude'])]\n",
    "\n",
    "# Step 3: Remove random jumps by setting a threshold for the maximum allowable distance between consecutive points (e.g., 100 meters)\n",
    "max_distance_m = 100\n",
    "for i in range(1, len(data)):\n",
    "    coord1 = (data.iloc[i-1]['Latitude'], data.iloc[i-1]['Longitude'])\n",
    "    coord2 = (data.iloc[i]['Latitude'], data.iloc[i]['Longitude'])\n",
    "    if geodesic(coord1, coord2).meters > max_distance_m:\n",
    "        data.iloc[i, data.columns.get_loc('Latitude')] = data.iloc[i-1]['Latitude']\n",
    "        data.iloc[i, data.columns.get_loc('Longitude')] = data.iloc[i-1]['Longitude']\n",
    "\n",
    "# Display the first few rows of the preprocessed data\n",
    "data.head()\n"
   ]
  },
  {
   "cell_type": "code",
   "execution_count": 33,
   "metadata": {},
   "outputs": [
    {
     "data": {
      "text/plain": [
       "'walk_pattern_map_preprocessed.html'"
      ]
     },
     "execution_count": 33,
     "metadata": {},
     "output_type": "execute_result"
    }
   ],
   "source": [
    "# Create a map centered around the first coordinate of the preprocessed data\n",
    "m = folium.Map(location=[data.iloc[0]['Latitude'], data.iloc[0]['Longitude']], zoom_start=20)\n",
    "\n",
    "# Plot the trajectory as a line on the map using the preprocessed data\n",
    "for i in range(1, len(data)):\n",
    "    folium.PolyLine([(data.iloc[i-1]['Latitude'], data.iloc[i-1]['Longitude']), \n",
    "                     (data.iloc[i]['Latitude'], data.iloc[i]['Longitude'])], color='blue').add_to(m)\n",
    "    \n",
    "# Save the map to an HTML file\n",
    "map_filepath = 'walk_pattern_map_preprocessed.html'\n",
    "m.save(map_filepath)\n",
    "\n",
    "map_filepath"
   ]
  },
  {
   "cell_type": "code",
   "execution_count": 34,
   "metadata": {},
   "outputs": [
    {
     "data": {
      "text/plain": [
       "'walk_pattern_map_smooth.html'"
      ]
     },
     "execution_count": 34,
     "metadata": {},
     "output_type": "execute_result"
    }
   ],
   "source": [
    "# Apply a moving average filter with a window size of 5 to the Latitude and Longitude columns to smooth the data\n",
    "window_size = 5\n",
    "data['Latitude_smooth'] = data['Latitude'].rolling(window=window_size, center=True).mean()\n",
    "data['Longitude_smooth'] = data['Longitude'].rolling(window=window_size, center=True).mean()\n",
    "\n",
    "# Remove the rows with NaN values generated due to smoothing\n",
    "data.dropna(subset=['Latitude_smooth', 'Longitude_smooth'], inplace=True)\n",
    "\n",
    "# Create a map centered around the first coordinate of the smoothed data\n",
    "m = folium.Map(location=[data.iloc[0]['Latitude_smooth'], data.iloc[0]['Longitude_smooth']], zoom_start=20)\n",
    "\n",
    "# Plot the trajectory as a line on the map using the smoothed data\n",
    "for i in range(1, len(data)):\n",
    "    folium.PolyLine([(data.iloc[i-1]['Latitude_smooth'], data.iloc[i-1]['Longitude_smooth']), \n",
    "                     (data.iloc[i]['Latitude_smooth'], data.iloc[i]['Longitude_smooth'])], color='blue').add_to(m)\n",
    "    \n",
    "# Save the map to an HTML file\n",
    "map_filepath_smooth = 'walk_pattern_map_smooth.html'\n",
    "m.save(map_filepath_smooth)\n",
    "\n",
    "map_filepath_smooth\n"
   ]
  },
  {
   "cell_type": "code",
   "execution_count": 35,
   "metadata": {},
   "outputs": [
    {
     "data": {
      "text/plain": [
       "'walk_pattern_map_resampled.html'"
      ]
     },
     "execution_count": 35,
     "metadata": {},
     "output_type": "execute_result"
    }
   ],
   "source": [
    "# Convert the TimeStamp column to datetime data type\n",
    "data['TimeStamp'] = pd.to_datetime(data['TimeStamp'])\n",
    "\n",
    "# Set the TimeStamp column as the index\n",
    "data.set_index('TimeStamp', inplace=True)\n",
    "\n",
    "# Resample the data to obtain a single location per minute by taking the mean of the Latitude and Longitude values within each minute\n",
    "data_resampled = data[['Latitude', 'Longitude']].resample('1T').mean().dropna()\n",
    "\n",
    "# Create a map centered around the first coordinate of the resampled data\n",
    "m = folium.Map(location=[data_resampled.iloc[0]['Latitude'], data_resampled.iloc[0]['Longitude']], zoom_start=20)\n",
    "\n",
    "# Plot the trajectory as a line on the map using the resampled data\n",
    "for i in range(1, len(data_resampled)):\n",
    "    folium.PolyLine([(data_resampled.iloc[i-1]['Latitude'], data_resampled.iloc[i-1]['Longitude']), \n",
    "                     (data_resampled.iloc[i]['Latitude'], data_resampled.iloc[i]['Longitude'])], color='blue').add_to(m)\n",
    "    \n",
    "# Save the map to an HTML file\n",
    "map_filepath_resampled = 'walk_pattern_map_resampled.html'\n",
    "m.save(map_filepath_resampled)\n",
    "\n",
    "map_filepath_resampled\n"
   ]
  },
  {
   "cell_type": "code",
   "execution_count": 36,
   "metadata": {},
   "outputs": [
    {
     "data": {
      "text/plain": [
       "'walk_pattern_map_resampled_2min.html'"
      ]
     },
     "execution_count": 36,
     "metadata": {},
     "output_type": "execute_result"
    }
   ],
   "source": [
    "# Resample the data to obtain a single location every 2 minutes by taking the mean of the Latitude and Longitude values within each 2-minute interval\n",
    "data_resampled_2min = data[['Latitude', 'Longitude']].resample('2T').mean().dropna()\n",
    "\n",
    "# Create a map centered around the first coordinate of the 2-minute resampled data\n",
    "m = folium.Map(location=[data_resampled_2min.iloc[0]['Latitude'], data_resampled_2min.iloc[0]['Longitude']], zoom_start=20)\n",
    "\n",
    "# Plot the trajectory as a line on the map using the 2-minute resampled data\n",
    "for i in range(1, len(data_resampled_2min)):\n",
    "    folium.PolyLine([(data_resampled_2min.iloc[i-1]['Latitude'], data_resampled_2min.iloc[i-1]['Longitude']), \n",
    "                     (data_resampled_2min.iloc[i]['Latitude'], data_resampled_2min.iloc[i]['Longitude'])], color='blue').add_to(m)\n",
    "    \n",
    "# Save the map to an HTML file\n",
    "map_filepath_resampled_2min = 'walk_pattern_map_resampled_2min.html'\n",
    "m.save(map_filepath_resampled_2min)\n",
    "\n",
    "map_filepath_resampled_2min\n"
   ]
  },
  {
   "cell_type": "code",
   "execution_count": 37,
   "metadata": {},
   "outputs": [
    {
     "data": {
      "text/plain": [
       "'walk_pattern_map_resampled_5min.html'"
      ]
     },
     "execution_count": 37,
     "metadata": {},
     "output_type": "execute_result"
    }
   ],
   "source": [
    "# Resample the data to obtain a single location every 5 minutes by taking the mean of the Latitude and Longitude values within each 5-minute interval\n",
    "data_resampled_5min = data[['Latitude', 'Longitude']].resample('5T').mean().dropna()\n",
    "\n",
    "# Create a map centered around the first coordinate of the 5-minute resampled data\n",
    "m = folium.Map(location=[data_resampled_5min.iloc[0]['Latitude'], data_resampled_5min.iloc[0]['Longitude']], zoom_start=20)\n",
    "\n",
    "# Plot the trajectory as a line on the map using the 5-minute resampled data\n",
    "for i in range(1, len(data_resampled_5min)):\n",
    "    folium.PolyLine([(data_resampled_5min.iloc[i-1]['Latitude'], data_resampled_5min.iloc[i-1]['Longitude']), \n",
    "                     (data_resampled_5min.iloc[i]['Latitude'], data_resampled_5min.iloc[i]['Longitude'])], color='blue').add_to(m)\n",
    "    \n",
    "# Save the map to an HTML file\n",
    "map_filepath_resampled_5min = 'walk_pattern_map_resampled_5min.html'\n",
    "m.save(map_filepath_resampled_5min)\n",
    "\n",
    "map_filepath_resampled_5min\n"
   ]
  },
  {
   "cell_type": "code",
   "execution_count": 38,
   "metadata": {},
   "outputs": [
    {
     "data": {
      "text/plain": [
       "'walk_pattern_map_resampled_smooth_2min.html'"
      ]
     },
     "execution_count": 38,
     "metadata": {},
     "output_type": "execute_result"
    }
   ],
   "source": [
    "# Apply a moving average filter with a window size of 3 to the 2-minute resampled Latitude and Longitude columns to smooth the data\n",
    "window_size = 3\n",
    "data_resampled_2min['Latitude_smooth'] = data_resampled_2min['Latitude'].rolling(window=window_size, center=True).mean()\n",
    "data_resampled_2min['Longitude_smooth'] = data_resampled_2min['Longitude'].rolling(window=window_size, center=True).mean()\n",
    "\n",
    "# Remove the rows with NaN values generated due to smoothing\n",
    "data_resampled_2min.dropna(subset=['Latitude_smooth', 'Longitude_smooth'], inplace=True)\n",
    "\n",
    "# Create a map centered around the first coordinate of the smoothed and resampled data\n",
    "m = folium.Map(location=[data_resampled_2min.iloc[0]['Latitude_smooth'], data_resampled_2min.iloc[0]['Longitude_smooth']], zoom_start=20)\n",
    "\n",
    "# Plot the trajectory as a line on the map using the smoothed and resampled data\n",
    "for i in range(1, len(data_resampled_2min)):\n",
    "    folium.PolyLine([(data_resampled_2min.iloc[i-1]['Latitude_smooth'], data_resampled_2min.iloc[i-1]['Longitude_smooth']), \n",
    "                     (data_resampled_2min.iloc[i]['Latitude_smooth'], data_resampled_2min.iloc[i]['Longitude_smooth'])], color='blue').add_to(m)\n",
    "    \n",
    "# Save the map to an HTML file\n",
    "map_filepath_resampled_smooth_2min = 'walk_pattern_map_resampled_smooth_2min.html'\n",
    "m.save(map_filepath_resampled_smooth_2min)\n",
    "\n",
    "map_filepath_resampled_smooth_2min\n"
   ]
  },
  {
   "cell_type": "code",
   "execution_count": 39,
   "metadata": {},
   "outputs": [
    {
     "data": {
      "text/plain": [
       "'walk_pattern_map_resampled_smooth_1min.html'"
      ]
     },
     "execution_count": 39,
     "metadata": {},
     "output_type": "execute_result"
    }
   ],
   "source": [
    "# Apply a moving average filter with a window size of 3 to the original Latitude and Longitude columns to smooth the data\n",
    "window_size = 5\n",
    "data['Latitude_smooth'] = data['Latitude'].rolling(window=window_size, center=True).mean()\n",
    "data['Longitude_smooth'] = data['Longitude'].rolling(window=window_size, center=True).mean()\n",
    "\n",
    "# Remove the rows with NaN values generated due to smoothing\n",
    "data.dropna(subset=['Latitude_smooth', 'Longitude_smooth'], inplace=True)\n",
    "\n",
    "# Resample the smoothed data to obtain a single location every 1 minute\n",
    "data_resampled_smooth_1min = data[['Latitude_smooth', 'Longitude_smooth']].resample('1T').mean().dropna()\n",
    "\n",
    "# Create a map centered around the first coordinate of the 1-minute resampled and smoothed data\n",
    "m = folium.Map(location=[data_resampled_smooth_1min.iloc[0]['Latitude_smooth'], data_resampled_smooth_1min.iloc[0]['Longitude_smooth']], zoom_start=20)\n",
    "\n",
    "# Plot the trajectory as a line on the map using the 1-minute resampled and smoothed data\n",
    "for i in range(1, len(data_resampled_smooth_1min)):\n",
    "    folium.PolyLine([(data_resampled_smooth_1min.iloc[i-1]['Latitude_smooth'], data_resampled_smooth_1min.iloc[i-1]['Longitude_smooth']), \n",
    "                     (data_resampled_smooth_1min.iloc[i]['Latitude_smooth'], data_resampled_smooth_1min.iloc[i]['Longitude_smooth'])], color='blue').add_to(m)\n",
    "    \n",
    "# Save the map to an HTML file\n",
    "map_filepath_resampled_smooth_1min = 'walk_pattern_map_resampled_smooth_1min.html'\n",
    "m.save(map_filepath_resampled_smooth_1min)\n",
    "\n",
    "map_filepath_resampled_smooth_1min\n"
   ]
  },
  {
   "cell_type": "code",
   "execution_count": 46,
   "metadata": {},
   "outputs": [
    {
     "data": {
      "text/plain": [
       "(443, Timedelta('4 days 19:37:35.226000'))"
      ]
     },
     "execution_count": 46,
     "metadata": {},
     "output_type": "execute_result"
    }
   ],
   "source": [
    "# Get the total length of the data and the time range it covers\n",
    "data_length = len(data)\n",
    "data_time_range = data.index[-1] - data.index[0]\n",
    "\n",
    "data_length, data_time_range\n"
   ]
  },
  {
   "cell_type": "code",
   "execution_count": 42,
   "metadata": {},
   "outputs": [
    {
     "data": {
      "text/plain": [
       "'walk_pattern_map_savgol_resampled_2min.html'"
      ]
     },
     "execution_count": 42,
     "metadata": {},
     "output_type": "execute_result"
    }
   ],
   "source": [
    "from scipy.signal import savgol_filter\n",
    "\n",
    "# Apply Savitzky-Golay smoothing with a window length of 5 and polynomial order of 2\n",
    "data['Latitude_smooth'] = savgol_filter(data['Latitude'], window_length=5, polyorder=2)\n",
    "data['Longitude_smooth'] = savgol_filter(data['Longitude'], window_length=5, polyorder=2)\n",
    "\n",
    "# Resample the smoothed data to obtain a single location every 2 minutes\n",
    "data_resampled_smooth_2min = data[['Latitude_smooth', 'Longitude_smooth']].resample('2T').mean().dropna()\n",
    "\n",
    "# Create a map centered around the first coordinate of the 2-minute resampled and smoothed data\n",
    "m = folium.Map(location=[data_resampled_smooth_2min.iloc[0]['Latitude_smooth'], data_resampled_smooth_2min.iloc[0]['Longitude_smooth']], zoom_start=20)\n",
    "\n",
    "# Plot the trajectory as a line on the map using the 2-minute resampled and smoothed data\n",
    "for i in range(1, len(data_resampled_smooth_2min)):\n",
    "    folium.PolyLine([(data_resampled_smooth_2min.iloc[i-1]['Latitude_smooth'], data_resampled_smooth_2min.iloc[i-1]['Longitude_smooth']), \n",
    "                     (data_resampled_smooth_2min.iloc[i]['Latitude_smooth'], data_resampled_smooth_2min.iloc[i]['Longitude_smooth'])], color='blue').add_to(m)\n",
    "    \n",
    "# Save the map to an HTML file\n",
    "map_filepath_savgol_2min = 'walk_pattern_map_savgol_resampled_2min.html'\n",
    "m.save(map_filepath_savgol_2min)\n",
    "\n",
    "map_filepath_savgol_2min\n"
   ]
  },
  {
   "cell_type": "code",
   "execution_count": 44,
   "metadata": {},
   "outputs": [
    {
     "data": {
      "text/plain": [
       "'walk_pattern_map_savgol_resampled_30s_stationary.html'"
      ]
     },
     "execution_count": 44,
     "metadata": {},
     "output_type": "execute_result"
    }
   ],
   "source": [
    "# Apply Savitzky-Golay smoothing with a window length of 5 and polynomial order of 2\n",
    "data['Latitude_smooth'] = savgol_filter(data['Latitude'], window_length=5, polyorder=2)\n",
    "data['Longitude_smooth'] = savgol_filter(data['Longitude'], window_length=5, polyorder=2)\n",
    "\n",
    "# Resample the smoothed data to obtain a single location every 30 seconds\n",
    "data_resampled_smooth_30s = data[['Latitude_smooth', 'Longitude_smooth']].resample('30S').mean().dropna()\n",
    "\n",
    "# Create a map centered around the first coordinate of the 30-second resampled and smoothed data\n",
    "m = folium.Map(location=[data_resampled_smooth_30s.iloc[0]['Latitude_smooth'], data_resampled_smooth_30s.iloc[0]['Longitude_smooth']], zoom_start=16)\n",
    "\n",
    "# Plot the trajectory as a line on the map using the 30-second resampled and smoothed data\n",
    "# Using different colors for paths with a minimum of 30 seconds difference at the same place\n",
    "previous_coord = None\n",
    "for i in range(1, len(data_resampled_smooth_30s)):\n",
    "    current_coord = (data_resampled_smooth_30s.iloc[i]['Latitude_smooth'], data_resampled_smooth_30s.iloc[i]['Longitude_smooth'])\n",
    "    color = 'blue' if current_coord != previous_coord else 'red'\n",
    "    \n",
    "    # Highlight the areas where the person has been stationary for at least 30 seconds\n",
    "    if color == 'red':\n",
    "        folium.CircleMarker(location=current_coord, radius=3, color='yellow', fill=True, fill_color='yellow').add_to(m)\n",
    "    \n",
    "    folium.PolyLine([(data_resampled_smooth_30s.iloc[i-1]['Latitude_smooth'], data_resampled_smooth_30s.iloc[i-1]['Longitude_smooth']), \n",
    "                     current_coord], color=color).add_to(m)\n",
    "    previous_coord = current_coord\n",
    "\n",
    "# Save the map to an HTML file\n",
    "map_filepath_savgol_30s_stationary = 'walk_pattern_map_savgol_resampled_30s_stationary.html'\n",
    "m.save(map_filepath_savgol_30s_stationary)\n",
    "\n",
    "map_filepath_savgol_30s_stationary\n"
   ]
  },
  {
   "cell_type": "code",
   "execution_count": 45,
   "metadata": {},
   "outputs": [
    {
     "data": {
      "text/plain": [
       "'walk_pattern_map_dbscan_savgol_resampled_30s.html'"
      ]
     },
     "execution_count": 45,
     "metadata": {},
     "output_type": "execute_result"
    }
   ],
   "source": [
    "from sklearn.cluster import DBSCAN\n",
    "\n",
    "# Step 1: Identify key points using DBSCAN clustering to find areas of high density (e.g., stops) and low density (e.g., significant changes in direction)\n",
    "coords = data[['Latitude', 'Longitude']].values\n",
    "clustering = DBSCAN(eps=0.0001, min_samples=3).fit(coords)\n",
    "data['Cluster'] = clustering.labels_\n",
    "\n",
    "# Step 2: Apply a less aggressive Savitzky-Golay smoothing while retaining the identified key points\n",
    "window_length = 5\n",
    "data['Latitude_smooth'] = savgol_filter(data['Latitude'], window_length, polyorder=2)\n",
    "data['Longitude_smooth'] = savgol_filter(data['Longitude'], window_length, polyorder=2)\n",
    "\n",
    "# Retain the original coordinates for the identified key points\n",
    "key_points_mask = data['Cluster'] != -1\n",
    "data.loc[key_points_mask, 'Latitude_smooth'] = data.loc[key_points_mask, 'Latitude']\n",
    "data.loc[key_points_mask, 'Longitude_smooth'] = data.loc[key_points_mask, 'Longitude']\n",
    "\n",
    "# Step 3: Resample the data at a 30-second interval\n",
    "data_resampled_smooth_30s = data[['Latitude_smooth', 'Longitude_smooth']].resample('30S').mean().dropna()\n",
    "\n",
    "# Step 4: Create a map and plot the smoothed, resampled path, highlighting areas where the person was stationary for at least 30 seconds\n",
    "m = folium.Map(location=[data_resampled_smooth_30s.iloc[0]['Latitude_smooth'], data_resampled_smooth_30s.iloc[0]['Longitude_smooth']], zoom_start=16)\n",
    "\n",
    "previous_coord = None\n",
    "for i in range(1, len(data_resampled_smooth_30s)):\n",
    "    current_coord = (data_resampled_smooth_30s.iloc[i]['Latitude_smooth'], data_resampled_smooth_30s.iloc[i]['Longitude_smooth'])\n",
    "    color = 'blue' if current_coord != previous_coord else 'red'\n",
    "    \n",
    "    # Highlight the areas where the person has been stationary for at least 30 seconds\n",
    "    if color == 'red':\n",
    "        folium.CircleMarker(location=current_coord, radius=3, color='yellow', fill=True, fill_color='yellow').add_to(m)\n",
    "    \n",
    "    folium.PolyLine([(data_resampled_smooth_30s.iloc[i-1]['Latitude_smooth'], data_resampled_smooth_30s.iloc[i-1]['Longitude_smooth']), \n",
    "                     current_coord], color=color).add_to(m)\n",
    "    previous_coord = current_coord\n",
    "\n",
    "# Save the map to an HTML file\n",
    "map_filepath_dbscan_savgol_30s = 'walk_pattern_map_dbscan_savgol_resampled_30s.html'\n",
    "m.save(map_filepath_dbscan_savgol_30s)\n",
    "\n",
    "map_filepath_dbscan_savgol_30s\n"
   ]
  },
  {
   "cell_type": "code",
   "execution_count": 47,
   "metadata": {},
   "outputs": [
    {
     "data": {
      "text/plain": [
       "(287, Timedelta('0 days 00:38:49.530000'))"
      ]
     },
     "execution_count": 47,
     "metadata": {},
     "output_type": "execute_result"
    }
   ],
   "source": [
    "# Get the total length of the data and the time range it covers for the \"Live Sol\" soldier\n",
    "live_sol_data = data[data['Soldier_ID'] == 'Live Sol']\n",
    "live_sol_data_length = len(live_sol_data)\n",
    "live_sol_data_time_range = live_sol_data.index[-1] - live_sol_data.index[0]\n",
    "\n",
    "live_sol_data_length, live_sol_data_time_range\n"
   ]
  },
  {
   "cell_type": "code",
   "execution_count": 51,
   "metadata": {},
   "outputs": [
    {
     "data": {
      "text/plain": [
       "'walk_pattern_map_dbscan_savgol_resampled_30s_live_sol.html'"
      ]
     },
     "execution_count": 51,
     "metadata": {},
     "output_type": "execute_result"
    }
   ],
   "source": [
    "# Step 1: Identify key points using DBSCAN clustering to find areas of high density (e.g., stops) and low density (e.g., significant changes in direction)\n",
    "coords = live_sol_data[['Latitude', 'Longitude']].values\n",
    "clustering = DBSCAN(eps=0.0001, min_samples=3).fit(coords)\n",
    "live_sol_data['Cluster'] = clustering.labels_\n",
    "\n",
    "# Step 2: Apply a slightly more aggressive Savitzky-Golay smoothing while retaining the identified key points\n",
    "window_length = 7\n",
    "live_sol_data['Latitude_smooth'] = savgol_filter(live_sol_data['Latitude'], window_length, polyorder=2)\n",
    "live_sol_data['Longitude_smooth'] = savgol_filter(live_sol_data['Longitude'], window_length, polyorder=2)\n",
    "\n",
    "# Retain the original coordinates for the identified key points\n",
    "key_points_mask = live_sol_data['Cluster'] != -1\n",
    "live_sol_data.loc[key_points_mask, 'Latitude_smooth'] = live_sol_data.loc[key_points_mask, 'Latitude']\n",
    "live_sol_data.loc[key_points_mask, 'Longitude_smooth'] = live_sol_data.loc[key_points_mask, 'Longitude']\n",
    "\n",
    "# Step 3: Resample the data at a 30-second interval\n",
    "data_resampled_smooth_30s = live_sol_data[['Latitude_smooth', 'Longitude_smooth']].resample('30S').mean().dropna()\n",
    "\n",
    "# Step 4: Create a map and plot the smoothed, resampled path, highlighting areas where the person was stationary for at least 1 minute\n",
    "m = folium.Map(location=[data_resampled_smooth_30s.iloc[0]['Latitude_smooth'], data_resampled_smooth_30s.iloc[0]['Longitude_smooth']], zoom_start=20)\n",
    "\n",
    "previous_coord = None\n",
    "for i in range(1, len(data_resampled_smooth_30s)):\n",
    "    current_coord = (data_resampled_smooth_30s.iloc[i]['Latitude_smooth'], data_resampled_smooth_30s.iloc[i]['Longitude_smooth'])\n",
    "    color = 'blue' if current_coord != previous_coord else 'red'\n",
    "    \n",
    "    # Highlight the areas where the person has been stationary for at least 1 minute\n",
    "    if color == 'red':\n",
    "        folium.CircleMarker(location=current_coord, radius=3, color='yellow', fill=True, fill_color='yellow').add_to(m)\n",
    "    \n",
    "    folium.PolyLine([(data_resampled_smooth_30s.iloc[i-1]['Latitude_smooth'], data_resampled_smooth_30s.iloc[i-1]['Longitude_smooth']), \n",
    "                     current_coord], color=color).add_to(m)\n",
    "    previous_coord = current_coord\n",
    "\n",
    "# Save the map to an HTML file\n",
    "map_filepath_dbscan_savgol_30s_live_sol = 'walk_pattern_map_dbscan_savgol_resampled_30s_live_sol.html'\n",
    "m.save(map_filepath_dbscan_savgol_30s_live_sol)\n",
    "\n",
    "map_filepath_dbscan_savgol_30s_live_sol\n"
   ]
  },
  {
   "cell_type": "code",
   "execution_count": null,
   "metadata": {},
   "outputs": [],
   "source": []
  }
 ],
 "metadata": {
  "kernelspec": {
   "display_name": "Python 3",
   "language": "python",
   "name": "python3"
  },
  "language_info": {
   "codemirror_mode": {
    "name": "ipython",
    "version": 3
   },
   "file_extension": ".py",
   "mimetype": "text/x-python",
   "name": "python",
   "nbconvert_exporter": "python",
   "pygments_lexer": "ipython3",
   "version": "3.11.5"
  },
  "orig_nbformat": 4
 },
 "nbformat": 4,
 "nbformat_minor": 2
}
